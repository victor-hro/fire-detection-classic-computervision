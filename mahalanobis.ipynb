{
 "metadata": {
  "language_info": {
   "codemirror_mode": {
    "name": "ipython",
    "version": 3
   },
   "file_extension": ".py",
   "mimetype": "text/x-python",
   "name": "python",
   "nbconvert_exporter": "python",
   "pygments_lexer": "ipython3",
   "version": "3.8.8"
  },
  "orig_nbformat": 2,
  "kernelspec": {
   "name": "python388jvsc74a57bd099ac092c052c335a585d60519d25aff84681decc510ed8ced49adeb4d0f2067a",
   "display_name": "Python 3.8.8 64-bit ('base': conda)"
  },
  "metadata": {
   "interpreter": {
    "hash": "99ac092c052c335a585d60519d25aff84681decc510ed8ced49adeb4d0f2067a"
   }
  }
 },
 "nbformat": 4,
 "nbformat_minor": 2,
 "cells": [
  {
   "cell_type": "code",
   "execution_count": 24,
   "metadata": {},
   "outputs": [],
   "source": [
    "import os\n",
    "import matplotlib.pyplot as plt\n",
    "import numpy as np\n",
    "\n",
    "from ipywidgets import interact"
   ]
  },
  {
   "source": [
    "# Mahalanobis\n",
    "\n",
    "\n",
    "        Mahalonobis distance is the distance between a point and a distribution. \n",
    "        And not between two distinct points. \n",
    "        It is effectively a multivariate equivalent of the Euclidean distance.\n",
    "\n",
    "https://www.machinelearningplus.com/statistics/mahalanobis-distance/"
   ],
   "cell_type": "markdown",
   "metadata": {}
  },
  {
   "source": [
    "The formula to compute Mahalanobis distance is as follows:\n",
    "\n",
    "$D^2 = (x-m)^{T} \\cdot C^{-1} \\cdot (x-m)$\n",
    "\n",
    "**Where,**\n",
    "\n",
    "\n",
    "$D^2$ is the square of the Mahalanobis distance. \n",
    "\n",
    "$x$          is the vector of the observation (row in a dataset), \n",
    "\n",
    "$m$          is the vector of mean values of independent variables (mean of each column), \n",
    "\n",
    "$C^{-1}$     is the inverse covariance matrix of independent variables. "
   ],
   "cell_type": "markdown",
   "metadata": {}
  },
  {
   "source": [
    "$(x – m)$ is essentially the distance of the vector from the mean. We then divide this by the covariance matrix (or multiply by the inverse of the covariance matrix).\n",
    "\n",
    "If you think about it, this is essentially a multivariate equivalent of the regular standardization (z = (x – mu)/sigma). That is, z = (x vector) – (mean vector) / (covariance matrix)."
   ],
   "cell_type": "markdown",
   "metadata": {}
  },
  {
   "cell_type": "code",
   "execution_count": 26,
   "metadata": {},
   "outputs": [],
   "source": [
    "DATA_DIR = '/home/victor/Mestrado/Disciplinas/Visão Computacional/Projeto Final/bowfire/BowFire'\n",
    "IMG_DIR = os.path.join(DATA_DIR, 'images')\n",
    "MASK_DIR = os.path.join(DATA_DIR, 'masks')"
   ]
  },
  {
   "cell_type": "code",
   "execution_count": 46,
   "metadata": {},
   "outputs": [
    {
     "output_type": "stream",
     "name": "stdout",
     "text": [
      "Total de imagens 119\nTotal de máscaras 119\n"
     ]
    }
   ],
   "source": [
    "list_imgs = [os.path.join(IMG_DIR, x) for x in os.listdir(IMG_DIR)]\n",
    "list_masks = [os.path.join(MASK_DIR, x) for x in os.listdir(MASK_DIR)]\n",
    "\n",
    "list_imgs = sorted(list_imgs)\n",
    "list_masks = sorted(list_masks)\n",
    "\n",
    "print('Total de imagens', len(list_imgs))\n",
    "print('Total de máscaras', len(list_masks))"
   ]
  },
  {
   "cell_type": "code",
   "execution_count": 50,
   "metadata": {},
   "outputs": [
    {
     "output_type": "display_data",
     "data": {
      "text/plain": "interactive(children=(IntSlider(value=59, description='count', max=119), Output()), _dom_classes=('widget-inte…",
      "application/vnd.jupyter.widget-view+json": {
       "version_major": 2,
       "version_minor": 0,
       "model_id": "cbaae472653a4136bcaf4d564b8158f1"
      }
     },
     "metadata": {}
    }
   ],
   "source": [
    "@interact(count = (0, len(list_imgs)))\n",
    "def view_images(count):\n",
    "    global img\n",
    "    global mask\n",
    "    fig, ax = plt.subplots(1,2, figsize=(10,5))\n",
    "    img = plt.imread(list_imgs[count])\n",
    "    mask = plt.imread(list_masks[count])\n",
    "    ax[0].imshow(img)\n",
    "    ax[1].imshow(mask)\n",
    "    \n",
    "    for axs in ax:\n",
    "        axs.axis('Off')"
   ]
  },
  {
   "cell_type": "code",
   "execution_count": 57,
   "metadata": {},
   "outputs": [
    {
     "output_type": "error",
     "ename": "LinAlgError",
     "evalue": "0-dimensional array given. Array must be at least two-dimensional",
     "traceback": [
      "\u001b[0;31m---------------------------------------------------------------------------\u001b[0m",
      "\u001b[0;31mLinAlgError\u001b[0m                               Traceback (most recent call last)",
      "\u001b[0;32m<ipython-input-57-3a778584b8e3>\u001b[0m in \u001b[0;36m<module>\u001b[0;34m\u001b[0m\n\u001b[1;32m      4\u001b[0m \u001b[0;34m\u001b[0m\u001b[0m\n\u001b[1;32m      5\u001b[0m \u001b[0mcovariance\u001b[0m \u001b[0;34m=\u001b[0m \u001b[0mnp\u001b[0m\u001b[0;34m.\u001b[0m\u001b[0mcov\u001b[0m\u001b[0;34m(\u001b[0m\u001b[0;34m[\u001b[0m\u001b[0mimg\u001b[0m\u001b[0;34m.\u001b[0m\u001b[0mravel\u001b[0m\u001b[0;34m(\u001b[0m\u001b[0;34m)\u001b[0m\u001b[0;34m]\u001b[0m\u001b[0;34m)\u001b[0m\u001b[0;34m\u001b[0m\u001b[0;34m\u001b[0m\u001b[0m\n\u001b[0;32m----> 6\u001b[0;31m \u001b[0minv_cov\u001b[0m \u001b[0;34m=\u001b[0m \u001b[0mnp\u001b[0m\u001b[0;34m.\u001b[0m\u001b[0mlinalg\u001b[0m\u001b[0;34m.\u001b[0m\u001b[0minv\u001b[0m\u001b[0;34m(\u001b[0m\u001b[0mcovariance\u001b[0m\u001b[0;34m)\u001b[0m  \u001b[0;31m# inv. covariance matrix\u001b[0m\u001b[0;34m\u001b[0m\u001b[0;34m\u001b[0m\u001b[0m\n\u001b[0m\u001b[1;32m      7\u001b[0m \u001b[0;34m\u001b[0m\u001b[0m\n\u001b[1;32m      8\u001b[0m \u001b[0;32mdef\u001b[0m \u001b[0morig\u001b[0m\u001b[0;34m(\u001b[0m\u001b[0mA\u001b[0m\u001b[0;34m,\u001b[0m \u001b[0mB\u001b[0m\u001b[0;34m,\u001b[0m \u001b[0mC\u001b[0m\u001b[0;34m,\u001b[0m \u001b[0mM\u001b[0m\u001b[0;34m,\u001b[0m \u001b[0minv_cov\u001b[0m\u001b[0;34m)\u001b[0m\u001b[0;34m:\u001b[0m\u001b[0;34m\u001b[0m\u001b[0;34m\u001b[0m\u001b[0m\n",
      "\u001b[0;32m<__array_function__ internals>\u001b[0m in \u001b[0;36minv\u001b[0;34m(*args, **kwargs)\u001b[0m\n",
      "\u001b[0;32m~/anaconda3/lib/python3.8/site-packages/numpy/linalg/linalg.py\u001b[0m in \u001b[0;36minv\u001b[0;34m(a)\u001b[0m\n\u001b[1;32m    538\u001b[0m     \"\"\"\n\u001b[1;32m    539\u001b[0m     \u001b[0ma\u001b[0m\u001b[0;34m,\u001b[0m \u001b[0mwrap\u001b[0m \u001b[0;34m=\u001b[0m \u001b[0m_makearray\u001b[0m\u001b[0;34m(\u001b[0m\u001b[0ma\u001b[0m\u001b[0;34m)\u001b[0m\u001b[0;34m\u001b[0m\u001b[0;34m\u001b[0m\u001b[0m\n\u001b[0;32m--> 540\u001b[0;31m     \u001b[0m_assert_stacked_2d\u001b[0m\u001b[0;34m(\u001b[0m\u001b[0ma\u001b[0m\u001b[0;34m)\u001b[0m\u001b[0;34m\u001b[0m\u001b[0;34m\u001b[0m\u001b[0m\n\u001b[0m\u001b[1;32m    541\u001b[0m     \u001b[0m_assert_stacked_square\u001b[0m\u001b[0;34m(\u001b[0m\u001b[0ma\u001b[0m\u001b[0;34m)\u001b[0m\u001b[0;34m\u001b[0m\u001b[0;34m\u001b[0m\u001b[0m\n\u001b[1;32m    542\u001b[0m     \u001b[0mt\u001b[0m\u001b[0;34m,\u001b[0m \u001b[0mresult_t\u001b[0m \u001b[0;34m=\u001b[0m \u001b[0m_commonType\u001b[0m\u001b[0;34m(\u001b[0m\u001b[0ma\u001b[0m\u001b[0;34m)\u001b[0m\u001b[0;34m\u001b[0m\u001b[0;34m\u001b[0m\u001b[0m\n",
      "\u001b[0;32m~/anaconda3/lib/python3.8/site-packages/numpy/linalg/linalg.py\u001b[0m in \u001b[0;36m_assert_stacked_2d\u001b[0;34m(*arrays)\u001b[0m\n\u001b[1;32m    195\u001b[0m     \u001b[0;32mfor\u001b[0m \u001b[0ma\u001b[0m \u001b[0;32min\u001b[0m \u001b[0marrays\u001b[0m\u001b[0;34m:\u001b[0m\u001b[0;34m\u001b[0m\u001b[0;34m\u001b[0m\u001b[0m\n\u001b[1;32m    196\u001b[0m         \u001b[0;32mif\u001b[0m \u001b[0ma\u001b[0m\u001b[0;34m.\u001b[0m\u001b[0mndim\u001b[0m \u001b[0;34m<\u001b[0m \u001b[0;36m2\u001b[0m\u001b[0;34m:\u001b[0m\u001b[0;34m\u001b[0m\u001b[0;34m\u001b[0m\u001b[0m\n\u001b[0;32m--> 197\u001b[0;31m             raise LinAlgError('%d-dimensional array given. Array must be '\n\u001b[0m\u001b[1;32m    198\u001b[0m                     'at least two-dimensional' % a.ndim)\n\u001b[1;32m    199\u001b[0m \u001b[0;34m\u001b[0m\u001b[0m\n",
      "\u001b[0;31mLinAlgError\u001b[0m: 0-dimensional array given. Array must be at least two-dimensional"
     ]
    }
   ],
   "source": [
    "import numpy as np\n",
    "import scipy.spatial.distance as SSD\n",
    "\n",
    "covariance = np.cov([img.ravel()])\n",
    "inv_cov = np.linalg.inv(covariance)  # inv. covariance matrix\n",
    "\n",
    "def orig(A, B, C, M, inv_cov):\n",
    "    h, w = A.shape\n",
    "    result = np.zeros_like(A, dtype='float64')\n",
    "\n",
    "    for i in range(h):\n",
    "        for j in range(w):\n",
    "            # array with particular pixels from each image\n",
    "            v = np.array([A[i, j], B[i, j], C[i, j]])\n",
    "            # calculate mahalanobis distance and insert value as a pixel\n",
    "            result[i, j] = SSD.mahalanobis(v, M, inv_cov)\n",
    "    return result\n",
    "\n",
    "def using_cdist(A, B, C, M, inv_cov):\n",
    "    D = np.dstack([A, B, C]).reshape(-1, 3)\n",
    "    result = SSD.cdist(D, M[None, :], metric='mahalanobis', VI=inv_cov)\n",
    "    result = result.reshape(A.shape)\n",
    "    return result\n",
    "\n",
    "expected = orig(A, B, C, M, inv_cov)\n",
    "result = using_cdist(A, B, C, M, inv_cov)\n",
    "assert np.allclose(result, expected)"
   ]
  }
 ]
}