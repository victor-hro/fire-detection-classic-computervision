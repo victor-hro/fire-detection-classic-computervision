{
 "cells": [
  {
   "cell_type": "markdown",
   "id": "stopped-olympus",
   "metadata": {},
   "source": [
    "# Import libraries"
   ]
  },
  {
   "cell_type": "code",
   "execution_count": 87,
   "id": "appreciated-journal",
   "metadata": {},
   "outputs": [],
   "source": [
    "import os\n",
    "import cv2\n",
    "import matplotlib.pyplot as plt\n",
    "import numpy as np\n",
    "\n",
    "from ipywidgets import interact"
   ]
  },
  {
   "cell_type": "code",
   "execution_count": 92,
   "id": "convertible-hydrogen",
   "metadata": {},
   "outputs": [],
   "source": [
    "def fire_bounds(img, kernel='normal',kernel_opening=5, kernel_closing=5):\n",
    "    global temp_masked\n",
    "    global opening\n",
    "    global closing\n",
    "    gray = cv2.cvtColor(img, cv2.COLOR_BGR2GRAY)\n",
    "    temp = np.copy(gray)\n",
    "    temp[temp<0]=0\n",
    "    temp[temp<0.4]=0\n",
    "    temp_masked = cv2.multiply(gray, temp)\n",
    "    \n",
    "    # opening\n",
    "    if kernel == 'normal':\n",
    "        kernel_open = np.array([kernel_opening, kernel_opening])\n",
    "        opening = cv2.morphologyEx(temp_masked, cv2.MORPH_OPEN, kernel_open)\n",
    "\n",
    "        # closing\n",
    "        kernel_close = np.array([kernel_closing, kernel_closing])\n",
    "        closing = cv2.morphologyEx(opening, cv2.MORPH_CLOSE, kernel_close)\n",
    "        masked_with_morpho = cv2.multiply(temp_masked, (closing//255))\n",
    "\n",
    "        fig, ax = plt.subplots(1,3, figsize = (15,5))\n",
    "        ax[0].imshow(np.squeeze(temp_masked),'gray')\n",
    "        ax[0].set_title('masked img')\n",
    "        ax[1].imshow(np.squeeze(opening), 'gray')\n",
    "        ax[1].set_title('opening')\n",
    "        ax[2].imshow(np.squeeze(closing), 'gray')\n",
    "        ax[2].set_title('closing')\n",
    "\n",
    "    else:\n",
    "        kernel_open = cv2.getStructuringElement(cv2.MORPH_ELLIPSE,(kernel_opening, kernel_opening))\n",
    "        opening = cv2.morphologyEx(temp_masked, cv2.MORPH_OPEN, kernel_open)\n",
    "\n",
    "        # closing\n",
    "        kernel_close = cv2.getStructuringElement(cv2.MORPH_ELLIPSE,(kernel_closing, kernel_closing))\n",
    "        closing = cv2.morphologyEx(opening, cv2.MORPH_CLOSE, kernel_close)\n",
    "        masked_with_morpho = cv2.multiply(temp_masked, (closing//255))\n",
    "        \n",
    "        fig, ax = plt.subplots(1,3, figsize = (15,5))\n",
    "        ax[0].imshow(np.squeeze(temp_masked),'gray')\n",
    "        ax[0].set_title('masked img')\n",
    "        ax[1].imshow(np.squeeze(opening), 'gray')\n",
    "        ax[1].set_title('opening')\n",
    "        ax[2].imshow(np.squeeze(closing), 'gray')\n",
    "        ax[2].set_title('closing')\n",
    "\n",
    "        for axs in ax:\n",
    "            axs.axis('Off')"
   ]
  },
  {
   "cell_type": "code",
   "execution_count": 93,
   "id": "underlying-catalyst",
   "metadata": {},
   "outputs": [],
   "source": [
    "DATA_DIR = '/home/victor/Mestrado/Disciplinas/Visão Computacional/Projeto Final/bowfire/BowFire'\n",
    "IMG_DIR = os.path.join(DATA_DIR, 'images')\n",
    "MASK_DIR = os.path.join(DATA_DIR, 'masks')"
   ]
  },
  {
   "cell_type": "code",
   "execution_count": 94,
   "id": "pregnant-richmond",
   "metadata": {},
   "outputs": [
    {
     "name": "stdout",
     "output_type": "stream",
     "text": [
      "Total de imagens 119\n",
      "Total de máscaras 119\n"
     ]
    }
   ],
   "source": [
    "list_imgs = [os.path.join(IMG_DIR, x) for x in os.listdir(IMG_DIR)]\n",
    "list_masks = [os.path.join(MASK_DIR, x) for x in os.listdir(MASK_DIR)]\n",
    "\n",
    "list_imgs = sorted(list_imgs)\n",
    "list_masks = sorted(list_masks)\n",
    "\n",
    "print('Total de imagens', len(list_imgs))\n",
    "print('Total de máscaras', len(list_masks))"
   ]
  },
  {
   "cell_type": "code",
   "execution_count": 95,
   "id": "british-blast",
   "metadata": {
    "scrolled": false
   },
   "outputs": [
    {
     "data": {
      "application/vnd.jupyter.widget-view+json": {
       "model_id": "803aedbc06514eb1a77b1b42d7f1312c",
       "version_major": 2,
       "version_minor": 0
      },
      "text/plain": [
       "interactive(children=(IntSlider(value=59, description='count', max=119), Dropdown(description='kernel', option…"
      ]
     },
     "metadata": {},
     "output_type": "display_data"
    }
   ],
   "source": [
    "@interact(count = (0, len(list_imgs)), \n",
    "          kernel = ['normal','ellipse'],\n",
    "          kernel_opening = (1,20,1), kernel_closing = (1,30,1))\n",
    "def view_images(count, kernel, kernel_opening, kernel_closing):\n",
    "    global img\n",
    "    global mask\n",
    "    fig, ax = plt.subplots(1,2, figsize=(10,5))\n",
    "    img = plt.imread(list_imgs[count])\n",
    "    mask = plt.imread(list_masks[count])\n",
    "    \n",
    "    ax[0].imshow(img)\n",
    "    ax[0].set_title('original')\n",
    "    ax[1].imshow(mask)\n",
    "    ax[1].set_title('mask')\n",
    "    \n",
    "    fire_bounds(img, kernel_opening, kernel_closing)\n",
    "    \n",
    "    for axs in ax:\n",
    "        axs.axis('Off')\n",
    "        \n",
    "# open = 3\n",
    "# close = 20"
   ]
  },
  {
   "cell_type": "code",
   "execution_count": null,
   "id": "signal-enough",
   "metadata": {
    "scrolled": true
   },
   "outputs": [],
   "source": []
  },
  {
   "cell_type": "code",
   "execution_count": 97,
   "id": "regulation-burner",
   "metadata": {
    "scrolled": true
   },
   "outputs": [
    {
     "name": "stdout",
     "output_type": "stream",
     "text": [
      "Collecting hdbscan\n",
      "  Downloading hdbscan-0.8.27.tar.gz (6.4 MB)\n",
      "\u001b[K     |████████████████████████████████| 6.4 MB 1.6 MB/s eta 0:00:01     |██████████████████▉             | 3.8 MB 1.8 MB/s eta 0:00:02     |████████████████████████████▏   | 5.7 MB 1.6 MB/s eta 0:00:01\n",
      "\u001b[?25h  Installing build dependencies ... \u001b[?25ldone\n",
      "\u001b[?25h  Getting requirements to build wheel ... \u001b[?25ldone\n",
      "\u001b[?25h    Preparing wheel metadata ... \u001b[?25ldone\n",
      "\u001b[?25hRequirement already satisfied: scipy>=1.0 in /home/victor/anaconda3/lib/python3.8/site-packages (from hdbscan) (1.5.4)\n",
      "Requirement already satisfied: six in /home/victor/anaconda3/lib/python3.8/site-packages (from hdbscan) (1.15.0)\n",
      "Requirement already satisfied: scikit-learn>=0.20 in /home/victor/anaconda3/lib/python3.8/site-packages (from hdbscan) (0.23.2)\n",
      "Requirement already satisfied: joblib>=1.0 in /home/victor/anaconda3/lib/python3.8/site-packages (from hdbscan) (1.0.1)\n",
      "Requirement already satisfied: numpy>=1.16 in /home/victor/anaconda3/lib/python3.8/site-packages (from hdbscan) (1.19.5)\n",
      "Requirement already satisfied: cython>=0.27 in /home/victor/anaconda3/lib/python3.8/site-packages (from hdbscan) (0.29.22)\n",
      "Requirement already satisfied: threadpoolctl>=2.0.0 in /home/victor/anaconda3/lib/python3.8/site-packages (from scikit-learn>=0.20->hdbscan) (2.1.0)\n",
      "Building wheels for collected packages: hdbscan\n",
      "  Building wheel for hdbscan (PEP 517) ... \u001b[?25ldone\n",
      "\u001b[?25h  Created wheel for hdbscan: filename=hdbscan-0.8.27-cp38-cp38-linux_x86_64.whl size=3858126 sha256=98af0d4fcf97cf50ec15d3b20ae4ff434a27d2292b7190d57585826f19c2d425\n",
      "  Stored in directory: /home/victor/.cache/pip/wheels/26/f2/c2/eab587fff76dc9ffc9a9bf3ca0e44e26d2ef6425264492df65\n",
      "Successfully built hdbscan\n",
      "Installing collected packages: hdbscan\n",
      "Successfully installed hdbscan-0.8.27\n",
      "Note: you may need to restart the kernel to use updated packages.\n"
     ]
    }
   ],
   "source": [
    "pip install hdbscan\n"
   ]
  },
  {
   "cell_type": "code",
   "execution_count": null,
   "id": "authentic-majority",
   "metadata": {},
   "outputs": [],
   "source": [
    "clusterer = hdbscan.HDBSCAN(metric = 'mahalanobis')\n",
    "clusterer.fit(img)\n"
   ]
  }
 ],
 "metadata": {
  "kernelspec": {
   "display_name": "Python 3",
   "language": "python",
   "name": "python3"
  },
  "language_info": {
   "codemirror_mode": {
    "name": "ipython",
    "version": 3
   },
   "file_extension": ".py",
   "mimetype": "text/x-python",
   "name": "python",
   "nbconvert_exporter": "python",
   "pygments_lexer": "ipython3",
   "version": "3.8.8"
  },
  "toc": {
   "base_numbering": 1,
   "nav_menu": {},
   "number_sections": true,
   "sideBar": true,
   "skip_h1_title": false,
   "title_cell": "Table of Contents",
   "title_sidebar": "Contents",
   "toc_cell": false,
   "toc_position": {},
   "toc_section_display": true,
   "toc_window_display": false
  }
 },
 "nbformat": 4,
 "nbformat_minor": 5
}
