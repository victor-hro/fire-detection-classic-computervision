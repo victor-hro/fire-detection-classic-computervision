{
 "cells": [
  {
   "cell_type": "markdown",
   "id": "herbal-wrist",
   "metadata": {},
   "source": [
    "# Import libraries"
   ]
  },
  {
   "cell_type": "code",
   "execution_count": 1,
   "id": "conventional-australia",
   "metadata": {},
   "outputs": [],
   "source": [
    "import os\n",
    "import cv2\n",
    "import matplotlib.pyplot as plt\n",
    "import numpy as np\n",
    "\n",
    "from ipywidgets import interact"
   ]
  },
  {
   "cell_type": "code",
   "execution_count": 6,
   "id": "relevant-balloon",
   "metadata": {},
   "outputs": [],
   "source": [
    "def fire_bounds(img, kernel='normal',kernel_opening=5, kernel_closing=5):\n",
    "    global gray\n",
    "    global opening\n",
    "    global closing\n",
    "    gray = cv2.cvtColor(img, cv2.COLOR_BGR2GRAY)\n",
    "    \n",
    "    # opening\n",
    "    if kernel == 'normal':\n",
    "        kernel_open = np.array([kernel_opening, kernel_opening])\n",
    "        opening = cv2.morphologyEx(gray, cv2.MORPH_OPEN, kernel_open)\n",
    "\n",
    "        # closing\n",
    "        kernel_close = np.array([kernel_closing, kernel_closing])\n",
    "        closing = cv2.morphologyEx(opening, cv2.MORPH_CLOSE, kernel_close)\n",
    "        masked_with_morpho = cv2.multiply(gray, (closing//255))\n",
    "\n",
    "        fig, ax = plt.subplots(1,3, figsize = (15,5))\n",
    "        ax[0].imshow(np.squeeze(gray),'gray')\n",
    "        ax[0].set_title('masked img')\n",
    "        ax[1].imshow(np.squeeze(opening), 'gray')\n",
    "        ax[1].set_title('opening')\n",
    "        ax[2].imshow(np.squeeze(closing), 'gray')\n",
    "        ax[2].set_title('closing')\n",
    "\n",
    "    else:\n",
    "        kernel_open = cv2.getStructuringElement(cv2.MORPH_ELLIPSE,(kernel_opening, kernel_opening))\n",
    "        opening = cv2.morphologyEx(gray, cv2.MORPH_OPEN, kernel_open)\n",
    "\n",
    "        # closing\n",
    "        kernel_close = cv2.getStructuringElement(cv2.MORPH_ELLIPSE,(kernel_closing, kernel_closing))\n",
    "        closing = cv2.morphologyEx(opening, cv2.MORPH_CLOSE, kernel_close)\n",
    "        masked_with_morpho = cv2.multiply(gray, (closing//255))\n",
    "        \n",
    "        fig, ax = plt.subplots(1,3, figsize = (15,5))\n",
    "        ax[0].imshow(np.squeeze(gray),'gray')\n",
    "        ax[0].set_title('gray img')\n",
    "        ax[1].imshow(np.squeeze(opening), 'gray')\n",
    "        ax[1].set_title('opening')\n",
    "        ax[2].imshow(np.squeeze(closing), 'gray')\n",
    "        ax[2].set_title('closing')\n",
    "\n",
    "        for axs in ax:\n",
    "            axs.axis('Off')"
   ]
  },
  {
   "cell_type": "code",
   "execution_count": 7,
   "id": "fourth-deficit",
   "metadata": {},
   "outputs": [],
   "source": [
    "DATA_DIR = '/home/victor/Mestrado/Disciplinas/Visão Computacional/Projeto Final/bowfire/BowFire'\n",
    "IMG_DIR = os.path.join(DATA_DIR, 'images')\n",
    "MASK_DIR = os.path.join(DATA_DIR, 'masks')"
   ]
  },
  {
   "cell_type": "code",
   "execution_count": 8,
   "id": "coordinated-ready",
   "metadata": {},
   "outputs": [
    {
     "name": "stdout",
     "output_type": "stream",
     "text": [
      "Total de imagens 119\n",
      "Total de máscaras 119\n"
     ]
    }
   ],
   "source": [
    "list_imgs = [os.path.join(IMG_DIR, x) for x in os.listdir(IMG_DIR)]\n",
    "list_masks = [os.path.join(MASK_DIR, x) for x in os.listdir(MASK_DIR)]\n",
    "\n",
    "list_imgs = sorted(list_imgs)\n",
    "list_masks = sorted(list_masks)\n",
    "\n",
    "print('Total de imagens', len(list_imgs))\n",
    "print('Total de máscaras', len(list_masks))"
   ]
  },
  {
   "cell_type": "code",
   "execution_count": 9,
   "id": "changed-generic",
   "metadata": {},
   "outputs": [
    {
     "data": {
      "application/vnd.jupyter.widget-view+json": {
       "model_id": "cd63abc1864e4d2b9c8cb08a8dc1d453",
       "version_major": 2,
       "version_minor": 0
      },
      "text/plain": [
       "interactive(children=(IntSlider(value=59, description='count', max=119), Dropdown(description='kernel', option…"
      ]
     },
     "metadata": {},
     "output_type": "display_data"
    }
   ],
   "source": [
    "@interact(count = (0, len(list_imgs)), \n",
    "          kernel = ['normal','ellipse'],\n",
    "          kernel_opening = (1,20,1), kernel_closing = (1,30,1))\n",
    "def view_images(count, kernel, kernel_opening, kernel_closing):\n",
    "    global img\n",
    "    global mask\n",
    "    fig, ax = plt.subplots(1,2, figsize=(10,5))\n",
    "    img = plt.imread(list_imgs[count])\n",
    "    mask = plt.imread(list_masks[count])\n",
    "    \n",
    "    ax[0].imshow(img)\n",
    "    ax[0].set_title('original')\n",
    "    ax[1].imshow(mask)\n",
    "    ax[1].set_title('mask')\n",
    "    \n",
    "    fire_bounds(img, kernel_opening, kernel_closing)\n",
    "    \n",
    "    for axs in ax:\n",
    "        axs.axis('Off')\n",
    "        \n",
    "# open = 3\n",
    "# close = 20"
   ]
  },
  {
   "cell_type": "code",
   "execution_count": null,
   "id": "pregnant-windows",
   "metadata": {},
   "outputs": [],
   "source": []
  },
  {
   "cell_type": "code",
   "execution_count": null,
   "id": "attractive-catalog",
   "metadata": {},
   "outputs": [],
   "source": []
  }
 ],
 "metadata": {
  "kernelspec": {
   "display_name": "Python 3",
   "language": "python",
   "name": "python3"
  },
  "language_info": {
   "codemirror_mode": {
    "name": "ipython",
    "version": 3
   },
   "file_extension": ".py",
   "mimetype": "text/x-python",
   "name": "python",
   "nbconvert_exporter": "python",
   "pygments_lexer": "ipython3",
   "version": "3.8.8"
  },
  "toc": {
   "base_numbering": 1,
   "nav_menu": {},
   "number_sections": true,
   "sideBar": true,
   "skip_h1_title": false,
   "title_cell": "Table of Contents",
   "title_sidebar": "Contents",
   "toc_cell": false,
   "toc_position": {},
   "toc_section_display": true,
   "toc_window_display": false
  }
 },
 "nbformat": 4,
 "nbformat_minor": 5
}
